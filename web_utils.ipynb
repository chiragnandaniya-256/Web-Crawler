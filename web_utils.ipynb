{
  "cells": [
    {
      "cell_type": "code",
      "metadata": {},
      "source": [
        "import requests\n",
        "from urllib.parse import urlparse, urljoin\n",
        "from bs4 import BeautifulSoup\n",
        "from cfg import config, db_cfg\n",
        "\n",
        "\n",
        "def is_valid(url):\n",
        "    '''\n",
        "    This function checks if a url is valid or not\n",
        "    '''\n",
        "    parsed = urlparse(url)\n",
        "    return bool(parsed.netloc) and ((parsed.scheme)=='http' or (parsed.scheme)=='https' )\n",
        "\n",
        "\n",
        "def get_all_links(url):\n",
        "    '''\n",
        "    :return: set of all unique urls on the current url\n",
        "    '''\n",
        "    new_urls = set()\n",
        "    try:\n",
        "        soup = BeautifulSoup(requests.get(url, verify=False).content, \"html.parser\")\n",
        "    except requests.exceptions.SSLError:\n",
        "        return new_urls\n",
        "    for a_tags in soup.findAll(\"a\"):\n",
        "        href = a_tags.attrs.get(\"href\")\n",
        "        if href==\"\" or href==None:\n",
        "            continue\n",
        "        href = urljoin(url, href)\n",
        "        parsed_href = urlparse(href)\n",
        "        href = parsed_href.scheme+\"://\"+parsed_href.netloc+parsed_href.path\n",
        "        if not is_valid(href):\n",
        "            continue\n",
        "        if href in url:\n",
        "            continue\n",
        "        new_urls.add(href)\n",
        "    return new_urls    \n",
        "\n",
        "\n"
      ],
      "outputs": [],
      "execution_count": null
    }
  ],
  "metadata": {
    "anaconda-cloud": {},
    "kernelspec": {
      "display_name": "Python 3",
      "language": "python",
      "name": "python3"
    },
    "language_info": {
      "codemirror_mode": {
        "name": "ipython",
        "version": 3
      },
      "file_extension": ".py",
      "mimetype": "text/x-python",
      "name": "python",
      "nbconvert_exporter": "python",
      "pygments_lexer": "ipython3",
      "version": "3.6.1"
    }
  },
  "nbformat": 4,
  "nbformat_minor": 4
}